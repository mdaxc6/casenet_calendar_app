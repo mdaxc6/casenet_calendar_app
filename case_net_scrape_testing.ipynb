{
 "cells": [
  {
   "cell_type": "code",
   "execution_count": 44,
   "source": [
    "from selenium import webdriver\r\n",
    "from selenium.webdriver.support.ui import Select\r\n",
    "import pandas as pd\r\n",
    "import time"
   ],
   "outputs": [],
   "metadata": {}
  },
  {
   "cell_type": "code",
   "execution_count": 23,
   "source": [
    "chromedriver_location = \"chrome_driver/chromedriver\""
   ],
   "outputs": [],
   "metadata": {}
  },
  {
   "cell_type": "code",
   "execution_count": 24,
   "source": [
    "district_drop_down = '//*[@id=\"courtId\"]'\r\n",
    "date_field = '//*[@id=\"inputVO.startDate\"]'\r\n",
    "seven_day_search_radio = '//*[@id=\"sevenDayRadio\"]'\r\n",
    "search_by_attorney_radio = '//*[@id=\"searchAttorneyRadio\"]'\r\n",
    "mobar_input = '//*[@id=\"inputVO.mobarNumber\"]'\r\n",
    "\r\n",
    "submit_button = '//*[@id=\"findButton\"]'"
   ],
   "outputs": [],
   "metadata": {}
  },
  {
   "cell_type": "code",
   "execution_count": 45,
   "source": [
    "driver = webdriver.Chrome(chromedriver_location)\r\n",
    "driver.get('https://www.courts.mo.gov/casenet/cases/calendarSearch.do')\r\n",
    "\r\n",
    "courtDistrictDrp = Select(driver.find_element_by_xpath(district_drop_down))\r\n",
    "courtDistrictDrp.select_by_value(\"CT11\")\r\n",
    "\r\n",
    "driver.find_element_by_xpath(date_field).send_keys(\"8/9/2021\")\r\n",
    "driver.find_element_by_xpath(seven_day_search_radio).click()\r\n",
    "driver.find_element_by_xpath(search_by_attorney_radio).click()\r\n",
    "driver.find_element_by_xpath(mobar_input).send_keys(\"71855\")\r\n",
    "\r\n",
    "time.sleep(1)\r\n",
    "\r\n",
    "driver.find_element_by_xpath(submit_button).click()\r\n",
    "\r\n"
   ],
   "outputs": [],
   "metadata": {}
  },
  {
   "cell_type": "code",
   "execution_count": 43,
   "source": [],
   "outputs": [],
   "metadata": {}
  },
  {
   "cell_type": "code",
   "execution_count": null,
   "source": [],
   "outputs": [],
   "metadata": {}
  }
 ],
 "metadata": {
  "orig_nbformat": 4,
  "language_info": {
   "name": "python",
   "version": "3.6.10",
   "mimetype": "text/x-python",
   "codemirror_mode": {
    "name": "ipython",
    "version": 3
   },
   "pygments_lexer": "ipython3",
   "nbconvert_exporter": "python",
   "file_extension": ".py"
  },
  "kernelspec": {
   "name": "python3",
   "display_name": "Python 3.6.10 64-bit ('DataBootCamp': conda)"
  },
  "interpreter": {
   "hash": "4d1346429681e2901940cfbc6d3aa8e0961654b88e69dffdbf3524e675148f21"
  }
 },
 "nbformat": 4,
 "nbformat_minor": 2
}