{
 "cells": [
  {
   "cell_type": "code",
   "execution_count": 1,
   "source": [
    "from selenium import webdriver\r\n",
    "from selenium.webdriver.support.ui import Select\r\n",
    "import pandas as pd\r\n",
    "import time"
   ],
   "outputs": [],
   "metadata": {}
  },
  {
   "cell_type": "code",
   "execution_count": 2,
   "source": [
    "chromedriver_location = \"chrome_driver/chromedriver\""
   ],
   "outputs": [],
   "metadata": {}
  },
  {
   "cell_type": "code",
   "execution_count": 3,
   "source": [
    "# xPaths to each required search element in the field. \r\n",
    "district_drop_down = '//*[@id=\"courtId\"]'\r\n",
    "date_field = '//*[@id=\"inputVO.startDate\"]'\r\n",
    "#seven_day_search_radio = '//*[@id=\"sevenDayRadio\"]'\r\n",
    "search_by_attorney_radio = '//*[@id=\"searchAttorneyRadio\"]'\r\n",
    "mobar_input = '//*[@id=\"inputVO.mobarNumber\"]'\r\n",
    "submit_button = '//*[@id=\"findButton\"]'"
   ],
   "outputs": [],
   "metadata": {}
  },
  {
   "cell_type": "code",
   "execution_count": 11,
   "source": [
    "def slice_per(source, step):\r\n",
    "    return [source[i::step] for i in range(step)]"
   ],
   "outputs": [],
   "metadata": {}
  },
  {
   "cell_type": "code",
   "execution_count": 16,
   "source": [
    "# create an instance of the webdriver and load the inital calendar search page\r\n",
    "driver = webdriver.Chrome(chromedriver_location)\r\n",
    "driver.get('https://www.courts.mo.gov/casenet/cases/calendarSearch.do')\r\n",
    "\r\n",
    "# store the district dropdown in an object using Select\r\n",
    "courtDistrictDrp = Select(driver.find_element_by_xpath(district_drop_down))\r\n",
    "courtDistrictDrp.select_by_value(\"CT11\") # 11th District Saint Charles\r\n",
    "\r\n",
    "# date\r\n",
    "driver.find_element_by_xpath(date_field).send_keys(\"8/10/2021\")\r\n",
    "# 7 day search results\r\n",
    "#driver.find_element_by_xpath(seven_day_search_radio).click()\r\n",
    "# search by attorney\r\n",
    "driver.find_element_by_xpath(search_by_attorney_radio).click()\r\n",
    "# MOBAR number field \r\n",
    "driver.find_element_by_xpath(mobar_input).send_keys(\"71855\")\r\n",
    "\r\n",
    "# without the pause, the inputs are too fast for casenet to handle\r\n",
    "time.sleep(1) \r\n",
    "\r\n",
    "# submit \r\n",
    "driver.find_element_by_xpath(submit_button).click()\r\n"
   ],
   "outputs": [],
   "metadata": {}
  },
  {
   "cell_type": "code",
   "execution_count": 17,
   "source": [
    "i=1\r\n",
    "data = []\r\n",
    "raw_text = []\r\n",
    "\r\n",
    "# get current date\r\n",
    "current_date = driver.find_element_by_xpath('/html/body/table/tbody/tr[2]/td/table/tbody/tr[2]/td/table/tbody/tr[1]/td/table/tbody/tr[1]/td[2]').text\r\n",
    "\r\n",
    "# collect information from the table\r\n",
    "while driver.find_elements_by_xpath(f'//td[@class=\"td{i}\"]'):\r\n",
    "    data.append(driver.find_elements_by_xpath(f'//td[@class=\"td{i}\"]'))\r\n",
    "    i += 1\r\n",
    "\r\n",
    "# parse text into a list\r\n",
    "for d in data:\r\n",
    "    for i in d:\r\n",
    "        raw_text.append(i.text)\r\n",
    "        \r\n",
    "# slices the data into lists of each feild \r\n",
    "organized_data = slice_per(raw_text, 9)\r\n",
    "\r\n",
    "# create data frame to hold the data\r\n",
    "df = pd.DataFrame({\r\n",
    "    \"date\" : current_date,\r\n",
    "    \"case_num\" : organized_data[0],\r\n",
    "    \"case_style\" : organized_data[1],\r\n",
    "    \"time\": organized_data[2],\r\n",
    "    \"days\": organized_data[3],\r\n",
    "    \"event\": organized_data[5],\r\n",
    "    \"location\": organized_data[7],\r\n",
    "    \"judge\": organized_data[8]\r\n",
    "})\r\n"
   ],
   "outputs": [],
   "metadata": {}
  },
  {
   "cell_type": "code",
   "execution_count": null,
   "source": [],
   "outputs": [],
   "metadata": {}
  }
 ],
 "metadata": {
  "orig_nbformat": 4,
  "language_info": {
   "name": "python",
   "version": "3.6.10",
   "mimetype": "text/x-python",
   "codemirror_mode": {
    "name": "ipython",
    "version": 3
   },
   "pygments_lexer": "ipython3",
   "nbconvert_exporter": "python",
   "file_extension": ".py"
  },
  "kernelspec": {
   "name": "python3",
   "display_name": "Python 3.6.10 64-bit ('DataBootCamp': conda)"
  },
  "interpreter": {
   "hash": "4d1346429681e2901940cfbc6d3aa8e0961654b88e69dffdbf3524e675148f21"
  }
 },
 "nbformat": 4,
 "nbformat_minor": 2
}