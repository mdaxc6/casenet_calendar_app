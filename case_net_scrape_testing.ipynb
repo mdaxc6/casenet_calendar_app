{
 "cells": [
  {
   "cell_type": "code",
   "execution_count": 1,
   "source": [
    "from selenium import webdriver\r\n",
    "from selenium.webdriver.support.ui import Select\r\n",
    "import pandas as pd\r\n",
    "import time"
   ],
   "outputs": [],
   "metadata": {}
  },
  {
   "cell_type": "code",
   "execution_count": 2,
   "source": [
    "chromedriver_location = \"chrome_driver/chromedriver\""
   ],
   "outputs": [],
   "metadata": {}
  },
  {
   "cell_type": "code",
   "execution_count": 3,
   "source": [
    "# xPaths to each required search element in the field. \r\n",
    "district_drop_down = '//*[@id=\"courtId\"]'\r\n",
    "date_field = '//*[@id=\"inputVO.startDate\"]'\r\n",
    "#seven_day_search_radio = '//*[@id=\"sevenDayRadio\"]'\r\n",
    "search_by_attorney_radio = '//*[@id=\"searchAttorneyRadio\"]'\r\n",
    "mobar_input = '//*[@id=\"inputVO.mobarNumber\"]'\r\n",
    "submit_button = '//*[@id=\"findButton\"]'"
   ],
   "outputs": [],
   "metadata": {}
  },
  {
   "cell_type": "code",
   "execution_count": 4,
   "source": [
    "# create an instance of the webdriver and load the inital calendar search page\r\n",
    "driver = webdriver.Chrome(chromedriver_location)\r\n",
    "driver.get('https://www.courts.mo.gov/casenet/cases/calendarSearch.do')\r\n",
    "\r\n",
    "# store the district dropdown in an object using Select\r\n",
    "courtDistrictDrp = Select(driver.find_element_by_xpath(district_drop_down))\r\n",
    "courtDistrictDrp.select_by_value(\"CT11\") # 11th District Saint Charles\r\n",
    "\r\n",
    "# date\r\n",
    "driver.find_element_by_xpath(date_field).send_keys(\"8/10/2021\")\r\n",
    "# 7 day search results\r\n",
    "#driver.find_element_by_xpath(seven_day_search_radio).click()\r\n",
    "# search by attorney\r\n",
    "driver.find_element_by_xpath(search_by_attorney_radio).click()\r\n",
    "# MOBAR number field \r\n",
    "driver.find_element_by_xpath(mobar_input).send_keys(\"71855\")\r\n",
    "\r\n",
    "# without the pause, the inputs are too fast for casenet to handle\r\n",
    "time.sleep(1) \r\n",
    "\r\n",
    "# submit \r\n",
    "driver.find_element_by_xpath(submit_button).click()\r\n",
    "\r\n"
   ],
   "outputs": [],
   "metadata": {}
  },
  {
   "cell_type": "code",
   "execution_count": 5,
   "source": [
    "dates = driver.find_elements_by_xpath('//td[contains(text(), \", 20\")]')"
   ],
   "outputs": [],
   "metadata": {}
  },
  {
   "cell_type": "code",
   "execution_count": 5,
   "source": [
    "current_date = driver.find_element_by_xpath('/html/body/table/tbody/tr[2]/td/table/tbody/tr[2]/td/table/tbody/tr[1]/td/table/tbody/tr[1]/td[2]').text"
   ],
   "outputs": [],
   "metadata": {}
  },
  {
   "cell_type": "code",
   "execution_count": 6,
   "source": [
    "current_date"
   ],
   "outputs": [
    {
     "output_type": "execute_result",
     "data": {
      "text/plain": [
       "' Monday, August 16, 2021'"
      ]
     },
     "metadata": {},
     "execution_count": 6
    }
   ],
   "metadata": {}
  },
  {
   "cell_type": "code",
   "execution_count": 7,
   "source": [
    "i=1\r\n",
    "data = []\r\n",
    "while driver.find_elements_by_xpath(f'//td[@class=\"td{i}\"]'):\r\n",
    "    data.append(driver.find_elements_by_xpath(f'//td[@class=\"td{i}\"]'))\r\n",
    "    i += 1"
   ],
   "outputs": [],
   "metadata": {}
  },
  {
   "cell_type": "code",
   "execution_count": 8,
   "source": [
    "raw_text = []\r\n",
    "for d in data:\r\n",
    "    for i in d:\r\n",
    "        raw_text.append(i.text)"
   ],
   "outputs": [],
   "metadata": {}
  },
  {
   "cell_type": "code",
   "execution_count": 9,
   "source": [
    "def slice_per(source, step):\r\n",
    "    return [source[i::step] for i in range(step)]"
   ],
   "outputs": [],
   "metadata": {}
  },
  {
   "cell_type": "code",
   "execution_count": 10,
   "source": [
    "organized_data = slice_per(raw_text, 9)"
   ],
   "outputs": [],
   "metadata": {}
  },
  {
   "cell_type": "code",
   "execution_count": 11,
   "source": [
    "len(organized_data)"
   ],
   "outputs": [
    {
     "output_type": "execute_result",
     "data": {
      "text/plain": [
       "9"
      ]
     },
     "metadata": {},
     "execution_count": 11
    }
   ],
   "metadata": {}
  },
  {
   "cell_type": "code",
   "execution_count": 12,
   "source": [
    "organized_data"
   ],
   "outputs": [
    {
     "output_type": "execute_result",
     "data": {
      "text/plain": [
       "[['1911-CR01190-01  ',\n",
       "  '1911-CR01457-01  ',\n",
       "  '1811-CR03256-01  ',\n",
       "  '1911-CR02239-01  ',\n",
       "  '1911-CR01436-01  ',\n",
       "  '2011-CR02440-01  ',\n",
       "  '2011-CR00723-01  '],\n",
       " ['ST V JEFFREY CALVIN HILL ',\n",
       "  'ST V SEAN D. GWIN ',\n",
       "  'ST V JULIANNE MARIE POPE ',\n",
       "  'ST V BRIAN KEITH BILLINGSLEY ',\n",
       "  'ST V MARLA A.M. NEIL ',\n",
       "  'ST V CARLOS L. SPANN ',\n",
       "  'ST V JULIANNE MARIE POPE '],\n",
       " ['8:30 AM ',\n",
       "  '8:30 AM ',\n",
       "  '9:00 AM ',\n",
       "  '1:30 PM ',\n",
       "  '8:30 AM ',\n",
       "  '8:30 AM ',\n",
       "  '9:00 AM '],\n",
       " ['1 OF 1', '1 OF 1', '1 OF 1', '1 OF 1', '1 OF 1', '1 OF 1', '1 OF 1'],\n",
       " [' ', ' ', ' ', ' ', ' ', ' ', ' '],\n",
       " ['Plea Hearing ',\n",
       "  'Disposition Hearing ',\n",
       "  'Sentencing Hearing ',\n",
       "  'Pre-trial Conference ',\n",
       "  'Disposition Hearing ',\n",
       "  'Arraignment ',\n",
       "  'Plea Hearing '],\n",
       " ['Event Text:  ',\n",
       "  'Event Text:  ',\n",
       "  'Event Text:  ',\n",
       "  'Event Text:  ',\n",
       "  'Event Text: ',\n",
       "  'Event Text: ',\n",
       "  'Event Text: '],\n",
       " ['Location: DIVISION 4 COURTROOM St Charles Circuit Div',\n",
       "  'Location: DIVISION 4 COURTROOM St Charles Circuit Div',\n",
       "  'Location: DIVISION 7 COURTROOM St Charles Circuit Div',\n",
       "  'Location: DIVISION 7 COURTROOM St Charles Circuit Div',\n",
       "  'Location: DIVISION 4 COURTROOM St Charles Circuit Div',\n",
       "  'Location: DIVISION 4 COURTROOM St Charles Circuit Div',\n",
       "  'Location: DIVISION 7 COURTROOM St Charles Circuit Div'],\n",
       " ['Judge/Commissioner: MICHAEL JAMES FAGRAS ',\n",
       "  'Judge/Commissioner: MICHAEL JAMES FAGRAS ',\n",
       "  'Judge/Commissioner: DANIEL G PELIKAN ',\n",
       "  'Judge/Commissioner: DANIEL G PELIKAN ',\n",
       "  'Judge/Commissioner: MICHAEL JAMES FAGRAS',\n",
       "  'Judge/Commissioner: MICHAEL JAMES FAGRAS',\n",
       "  'Judge/Commissioner: DANIEL G PELIKAN']]"
      ]
     },
     "metadata": {},
     "execution_count": 12
    }
   ],
   "metadata": {}
  },
  {
   "cell_type": "code",
   "execution_count": 13,
   "source": [
    "df = pd.DataFrame({\r\n",
    "    \"date\" : current_date,\r\n",
    "    \"case_num\" : organized_data[0],\r\n",
    "    \"case_style\" : organized_data[1],\r\n",
    "    \"time\": organized_data[2],\r\n",
    "    \"days\": organized_data[3],\r\n",
    "    \"event\": organized_data[5],\r\n",
    "    \"location\": organized_data[7],\r\n",
    "    \"judge\": organized_data[8]\r\n",
    "})"
   ],
   "outputs": [],
   "metadata": {}
  },
  {
   "cell_type": "code",
   "execution_count": 14,
   "source": [
    "df.head()"
   ],
   "outputs": [
    {
     "output_type": "execute_result",
     "data": {
      "text/plain": [
       "                       date           case_num                     case_style  \\\n",
       "0   Monday, August 16, 2021  1911-CR01190-01        ST V JEFFREY CALVIN HILL    \n",
       "1   Monday, August 16, 2021  1911-CR01457-01               ST V SEAN D. GWIN    \n",
       "2   Monday, August 16, 2021  1811-CR03256-01        ST V JULIANNE MARIE POPE    \n",
       "3   Monday, August 16, 2021  1911-CR02239-01    ST V BRIAN KEITH BILLINGSLEY    \n",
       "4   Monday, August 16, 2021  1911-CR01436-01            ST V MARLA A.M. NEIL    \n",
       "\n",
       "       time    days                  event  \\\n",
       "0  8:30 AM   1 OF 1          Plea Hearing    \n",
       "1  8:30 AM   1 OF 1   Disposition Hearing    \n",
       "2  9:00 AM   1 OF 1    Sentencing Hearing    \n",
       "3  1:30 PM   1 OF 1  Pre-trial Conference    \n",
       "4  8:30 AM   1 OF 1   Disposition Hearing    \n",
       "\n",
       "                                            location  \\\n",
       "0  Location: DIVISION 4 COURTROOM St Charles Circ...   \n",
       "1  Location: DIVISION 4 COURTROOM St Charles Circ...   \n",
       "2  Location: DIVISION 7 COURTROOM St Charles Circ...   \n",
       "3  Location: DIVISION 7 COURTROOM St Charles Circ...   \n",
       "4  Location: DIVISION 4 COURTROOM St Charles Circ...   \n",
       "\n",
       "                                       judge  \n",
       "0  Judge/Commissioner: MICHAEL JAMES FAGRAS   \n",
       "1  Judge/Commissioner: MICHAEL JAMES FAGRAS   \n",
       "2      Judge/Commissioner: DANIEL G PELIKAN   \n",
       "3      Judge/Commissioner: DANIEL G PELIKAN   \n",
       "4   Judge/Commissioner: MICHAEL JAMES FAGRAS  "
      ],
      "text/html": [
       "<div>\n",
       "<style scoped>\n",
       "    .dataframe tbody tr th:only-of-type {\n",
       "        vertical-align: middle;\n",
       "    }\n",
       "\n",
       "    .dataframe tbody tr th {\n",
       "        vertical-align: top;\n",
       "    }\n",
       "\n",
       "    .dataframe thead th {\n",
       "        text-align: right;\n",
       "    }\n",
       "</style>\n",
       "<table border=\"1\" class=\"dataframe\">\n",
       "  <thead>\n",
       "    <tr style=\"text-align: right;\">\n",
       "      <th></th>\n",
       "      <th>date</th>\n",
       "      <th>case_num</th>\n",
       "      <th>case_style</th>\n",
       "      <th>time</th>\n",
       "      <th>days</th>\n",
       "      <th>event</th>\n",
       "      <th>location</th>\n",
       "      <th>judge</th>\n",
       "    </tr>\n",
       "  </thead>\n",
       "  <tbody>\n",
       "    <tr>\n",
       "      <th>0</th>\n",
       "      <td>Monday, August 16, 2021</td>\n",
       "      <td>1911-CR01190-01</td>\n",
       "      <td>ST V JEFFREY CALVIN HILL</td>\n",
       "      <td>8:30 AM</td>\n",
       "      <td>1 OF 1</td>\n",
       "      <td>Plea Hearing</td>\n",
       "      <td>Location: DIVISION 4 COURTROOM St Charles Circ...</td>\n",
       "      <td>Judge/Commissioner: MICHAEL JAMES FAGRAS</td>\n",
       "    </tr>\n",
       "    <tr>\n",
       "      <th>1</th>\n",
       "      <td>Monday, August 16, 2021</td>\n",
       "      <td>1911-CR01457-01</td>\n",
       "      <td>ST V SEAN D. GWIN</td>\n",
       "      <td>8:30 AM</td>\n",
       "      <td>1 OF 1</td>\n",
       "      <td>Disposition Hearing</td>\n",
       "      <td>Location: DIVISION 4 COURTROOM St Charles Circ...</td>\n",
       "      <td>Judge/Commissioner: MICHAEL JAMES FAGRAS</td>\n",
       "    </tr>\n",
       "    <tr>\n",
       "      <th>2</th>\n",
       "      <td>Monday, August 16, 2021</td>\n",
       "      <td>1811-CR03256-01</td>\n",
       "      <td>ST V JULIANNE MARIE POPE</td>\n",
       "      <td>9:00 AM</td>\n",
       "      <td>1 OF 1</td>\n",
       "      <td>Sentencing Hearing</td>\n",
       "      <td>Location: DIVISION 7 COURTROOM St Charles Circ...</td>\n",
       "      <td>Judge/Commissioner: DANIEL G PELIKAN</td>\n",
       "    </tr>\n",
       "    <tr>\n",
       "      <th>3</th>\n",
       "      <td>Monday, August 16, 2021</td>\n",
       "      <td>1911-CR02239-01</td>\n",
       "      <td>ST V BRIAN KEITH BILLINGSLEY</td>\n",
       "      <td>1:30 PM</td>\n",
       "      <td>1 OF 1</td>\n",
       "      <td>Pre-trial Conference</td>\n",
       "      <td>Location: DIVISION 7 COURTROOM St Charles Circ...</td>\n",
       "      <td>Judge/Commissioner: DANIEL G PELIKAN</td>\n",
       "    </tr>\n",
       "    <tr>\n",
       "      <th>4</th>\n",
       "      <td>Monday, August 16, 2021</td>\n",
       "      <td>1911-CR01436-01</td>\n",
       "      <td>ST V MARLA A.M. NEIL</td>\n",
       "      <td>8:30 AM</td>\n",
       "      <td>1 OF 1</td>\n",
       "      <td>Disposition Hearing</td>\n",
       "      <td>Location: DIVISION 4 COURTROOM St Charles Circ...</td>\n",
       "      <td>Judge/Commissioner: MICHAEL JAMES FAGRAS</td>\n",
       "    </tr>\n",
       "  </tbody>\n",
       "</table>\n",
       "</div>"
      ]
     },
     "metadata": {},
     "execution_count": 14
    }
   ],
   "metadata": {}
  },
  {
   "cell_type": "code",
   "execution_count": null,
   "source": [],
   "outputs": [],
   "metadata": {}
  }
 ],
 "metadata": {
  "orig_nbformat": 4,
  "language_info": {
   "name": "python",
   "version": "3.6.10",
   "mimetype": "text/x-python",
   "codemirror_mode": {
    "name": "ipython",
    "version": 3
   },
   "pygments_lexer": "ipython3",
   "nbconvert_exporter": "python",
   "file_extension": ".py"
  },
  "kernelspec": {
   "name": "python3",
   "display_name": "Python 3.6.10 64-bit ('DataBootCamp': conda)"
  },
  "interpreter": {
   "hash": "4d1346429681e2901940cfbc6d3aa8e0961654b88e69dffdbf3524e675148f21"
  }
 },
 "nbformat": 4,
 "nbformat_minor": 2
}