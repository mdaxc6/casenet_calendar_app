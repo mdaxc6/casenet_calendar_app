{
 "cells": [
  {
   "cell_type": "code",
   "execution_count": 1,
   "source": [
    "from selenium import webdriver\r\n",
    "from selenium.webdriver.support.ui import Select\r\n",
    "import pandas as pd\r\n",
    "import time"
   ],
   "outputs": [],
   "metadata": {}
  },
  {
   "cell_type": "code",
   "execution_count": 2,
   "source": [
    "chromedriver_location = \"chrome_driver/chromedriver\""
   ],
   "outputs": [],
   "metadata": {}
  },
  {
   "cell_type": "code",
   "execution_count": 3,
   "source": [
    "# xPaths to each required search element in the field. \r\n",
    "district_drop_down = '//*[@id=\"courtId\"]'\r\n",
    "date_field = '//*[@id=\"inputVO.startDate\"]'\r\n",
    "seven_day_search_radio = '//*[@id=\"sevenDayRadio\"]'\r\n",
    "search_by_attorney_radio = '//*[@id=\"searchAttorneyRadio\"]'\r\n",
    "mobar_input = '//*[@id=\"inputVO.mobarNumber\"]'\r\n",
    "submit_button = '//*[@id=\"findButton\"]'"
   ],
   "outputs": [],
   "metadata": {}
  },
  {
   "cell_type": "code",
   "execution_count": 4,
   "source": [
    "# create an instance of the webdriver and load the inital calendar search page\r\n",
    "driver = webdriver.Chrome(chromedriver_location)\r\n",
    "driver.get('https://www.courts.mo.gov/casenet/cases/calendarSearch.do')\r\n",
    "\r\n",
    "# store the district dropdown in an object using Select\r\n",
    "courtDistrictDrp = Select(driver.find_element_by_xpath(district_drop_down))\r\n",
    "courtDistrictDrp.select_by_value(\"CT11\") # 11th District Saint Charles\r\n",
    "\r\n",
    "# date\r\n",
    "driver.find_element_by_xpath(date_field).send_keys(\"8/10/2021\")\r\n",
    "# 7 day search results\r\n",
    "driver.find_element_by_xpath(seven_day_search_radio).click()\r\n",
    "# search by attorney\r\n",
    "driver.find_element_by_xpath(search_by_attorney_radio).click()\r\n",
    "# MOBAR number field \r\n",
    "driver.find_element_by_xpath(mobar_input).send_keys(\"71855\")\r\n",
    "\r\n",
    "# without the pause, the inputs are too fast for casenet to handle\r\n",
    "time.sleep(1) \r\n",
    "\r\n",
    "# submit \r\n",
    "driver.find_element_by_xpath(submit_button).click()\r\n",
    "\r\n"
   ],
   "outputs": [],
   "metadata": {}
  },
  {
   "cell_type": "code",
   "execution_count": 40,
   "source": [
    "dates = driver.find_elements_by_xpath('//td[contains(text(), \", 20\")]')"
   ],
   "outputs": [],
   "metadata": {}
  },
  {
   "cell_type": "code",
   "execution_count": 41,
   "source": [
    "for h in dates:\r\n",
    "    print(h.text)"
   ],
   "outputs": [
    {
     "output_type": "stream",
     "name": "stdout",
     "text": [
      "August 11, 2021 - August 17, 2021\n",
      " Wednesday, August 11, 2021\n",
      " Thursday, August 12, 2021\n"
     ]
    }
   ],
   "metadata": {}
  },
  {
   "cell_type": "code",
   "execution_count": 5,
   "source": [
    "i=1\r\n",
    "data = []\r\n",
    "while driver.find_elements_by_xpath(f'//td[@class=\"td{i}\"]'):\r\n",
    "    data.append(driver.find_elements_by_xpath(f'//td[@class=\"td{i}\"]'))\r\n",
    "    i += 1"
   ],
   "outputs": [],
   "metadata": {}
  },
  {
   "cell_type": "code",
   "execution_count": 17,
   "source": [
    "raw_text = []\r\n",
    "for d in data:\r\n",
    "    for i in d:\r\n",
    "        raw_text.append(i.text)"
   ],
   "outputs": [],
   "metadata": {}
  },
  {
   "cell_type": "code",
   "execution_count": 24,
   "source": [
    "def slice_per(source, step):\r\n",
    "    return [source[i::step] for i in range(step)]"
   ],
   "outputs": [],
   "metadata": {}
  },
  {
   "cell_type": "code",
   "execution_count": 27,
   "source": [
    "organized_data = slice_per(raw_text, 9)"
   ],
   "outputs": [],
   "metadata": {}
  },
  {
   "cell_type": "code",
   "execution_count": 28,
   "source": [
    "len(organized_data)"
   ],
   "outputs": [
    {
     "output_type": "execute_result",
     "data": {
      "text/plain": [
       "9"
      ]
     },
     "metadata": {},
     "execution_count": 28
    }
   ],
   "metadata": {}
  },
  {
   "cell_type": "code",
   "execution_count": 29,
   "source": [
    "organized_data"
   ],
   "outputs": [
    {
     "output_type": "execute_result",
     "data": {
      "text/plain": [
       "[['2111-CC00542  ',\n",
       "  '1611-CR03019-01  ',\n",
       "  '1511-FC01981-01  ',\n",
       "  '1711-CR02411-01  '],\n",
       " ['STEPHEN WYATT V CHESTERFIELD MUNICIPAL ET AL ',\n",
       "  'ST V MARCOS ENRICO TRUJILLO ',\n",
       "  'MELISSA Y HARPER V DEREK L HARPER ',\n",
       "  'ST V JEREMY LEE BRANDT '],\n",
       " ['9:00 AM ', '9:00 AM ', '9:00 AM ', '9:00 AM '],\n",
       " ['1 OF 1', '1 OF 1', '1 OF 1', '1 OF 1'],\n",
       " [' ', ' ', ' ', ' '],\n",
       " ['Civil Setting ',\n",
       "  'Probation Viol Hearing ',\n",
       "  'Case Review ',\n",
       "  'Disposition Hearing '],\n",
       " ['Event Text:  ',\n",
       "  'Event Text:  ',\n",
       "  'Event Text: SUBMISSION OF DOCUMENTS PROPOSED CUSTODY SCHEDULE',\n",
       "  'Event Text: '],\n",
       " ['Location: DIVISION 1 COURTROOM St Charles Circuit Div',\n",
       "  'Location: DIVISION 5 COURTROOM St Charles Circuit Div',\n",
       "  'Location: DIVISION 3 COURTROOM St Charles Circuit Div',\n",
       "  'Location: DIVISION 5 COURTROOM St Charles Circuit Div'],\n",
       " ['Judge/Commissioner: REBECA NAVARRO-MCKELVEY ',\n",
       "  'Judge/Commissioner: JON A. CUNNINGHAM ',\n",
       "  'Judge/Commissioner: JOHN PAUL BANAS',\n",
       "  'Judge/Commissioner: JON A. CUNNINGHAM']]"
      ]
     },
     "metadata": {},
     "execution_count": 29
    }
   ],
   "metadata": {}
  },
  {
   "cell_type": "code",
   "execution_count": null,
   "source": [],
   "outputs": [],
   "metadata": {}
  }
 ],
 "metadata": {
  "orig_nbformat": 4,
  "language_info": {
   "name": "python",
   "version": "3.6.10",
   "mimetype": "text/x-python",
   "codemirror_mode": {
    "name": "ipython",
    "version": 3
   },
   "pygments_lexer": "ipython3",
   "nbconvert_exporter": "python",
   "file_extension": ".py"
  },
  "kernelspec": {
   "name": "python3",
   "display_name": "Python 3.6.10 64-bit ('DataBootCamp': conda)"
  },
  "interpreter": {
   "hash": "4d1346429681e2901940cfbc6d3aa8e0961654b88e69dffdbf3524e675148f21"
  }
 },
 "nbformat": 4,
 "nbformat_minor": 2
}